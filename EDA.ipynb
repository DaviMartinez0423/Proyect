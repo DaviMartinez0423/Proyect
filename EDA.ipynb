{
 "cells": [
  {
   "cell_type": "markdown",
   "id": "d7756b12",
   "metadata": {},
   "source": [
    "# Import libraries"
   ]
  },
  {
   "cell_type": "code",
   "execution_count": 46,
   "id": "f46fa8b7-2c03-4549-be11-dd4fd23292e3",
   "metadata": {},
   "outputs": [],
   "source": [
    "import pandas as pd\n",
    "import matplotlib.pyplot as plt\n",
    "import seaborn as sns "
   ]
  },
  {
   "cell_type": "markdown",
   "id": "f0f6981b",
   "metadata": {},
   "source": [
    "# Read the CSV"
   ]
  },
  {
   "cell_type": "code",
   "execution_count": 47,
   "id": "52b11e05-08e5-479f-a2e7-a873eb48516e",
   "metadata": {
    "scrolled": true
   },
   "outputs": [
    {
     "data": {
      "text/html": [
       "<div>\n",
       "<style scoped>\n",
       "    .dataframe tbody tr th:only-of-type {\n",
       "        vertical-align: middle;\n",
       "    }\n",
       "\n",
       "    .dataframe tbody tr th {\n",
       "        vertical-align: top;\n",
       "    }\n",
       "\n",
       "    .dataframe thead th {\n",
       "        text-align: right;\n",
       "    }\n",
       "</style>\n",
       "<table border=\"1\" class=\"dataframe\">\n",
       "  <thead>\n",
       "    <tr style=\"text-align: right;\">\n",
       "      <th></th>\n",
       "      <th>Body Type</th>\n",
       "      <th>Sex</th>\n",
       "      <th>Diet</th>\n",
       "      <th>How Often Shower</th>\n",
       "      <th>Heating Energy Source</th>\n",
       "      <th>Transport</th>\n",
       "      <th>Vehicle Type</th>\n",
       "      <th>Social Activity</th>\n",
       "      <th>Monthly Grocery Bill</th>\n",
       "      <th>Frequency of Traveling by Air</th>\n",
       "      <th>Vehicle Monthly Distance Km</th>\n",
       "      <th>Waste Bag Size</th>\n",
       "      <th>Waste Bag Weekly Count</th>\n",
       "      <th>How Long TV PC Daily Hour</th>\n",
       "      <th>How Many New Clothes Monthly</th>\n",
       "      <th>How Long Internet Daily Hour</th>\n",
       "      <th>Energy efficiency</th>\n",
       "      <th>Recycling</th>\n",
       "      <th>Cooking_With</th>\n",
       "      <th>CarbonEmission</th>\n",
       "    </tr>\n",
       "  </thead>\n",
       "  <tbody>\n",
       "    <tr>\n",
       "      <th>0</th>\n",
       "      <td>overweight</td>\n",
       "      <td>female</td>\n",
       "      <td>pescatarian</td>\n",
       "      <td>daily</td>\n",
       "      <td>coal</td>\n",
       "      <td>public</td>\n",
       "      <td>NaN</td>\n",
       "      <td>often</td>\n",
       "      <td>230</td>\n",
       "      <td>frequently</td>\n",
       "      <td>210</td>\n",
       "      <td>large</td>\n",
       "      <td>4</td>\n",
       "      <td>7</td>\n",
       "      <td>26</td>\n",
       "      <td>1</td>\n",
       "      <td>No</td>\n",
       "      <td>['Metal']</td>\n",
       "      <td>['Stove', 'Oven']</td>\n",
       "      <td>2238</td>\n",
       "    </tr>\n",
       "    <tr>\n",
       "      <th>1</th>\n",
       "      <td>obese</td>\n",
       "      <td>female</td>\n",
       "      <td>vegetarian</td>\n",
       "      <td>less frequently</td>\n",
       "      <td>natural gas</td>\n",
       "      <td>walk/bicycle</td>\n",
       "      <td>NaN</td>\n",
       "      <td>often</td>\n",
       "      <td>114</td>\n",
       "      <td>rarely</td>\n",
       "      <td>9</td>\n",
       "      <td>extra large</td>\n",
       "      <td>3</td>\n",
       "      <td>9</td>\n",
       "      <td>38</td>\n",
       "      <td>5</td>\n",
       "      <td>No</td>\n",
       "      <td>['Metal']</td>\n",
       "      <td>['Stove', 'Microwave']</td>\n",
       "      <td>1892</td>\n",
       "    </tr>\n",
       "    <tr>\n",
       "      <th>2</th>\n",
       "      <td>overweight</td>\n",
       "      <td>male</td>\n",
       "      <td>omnivore</td>\n",
       "      <td>more frequently</td>\n",
       "      <td>wood</td>\n",
       "      <td>private</td>\n",
       "      <td>petrol</td>\n",
       "      <td>never</td>\n",
       "      <td>138</td>\n",
       "      <td>never</td>\n",
       "      <td>2472</td>\n",
       "      <td>small</td>\n",
       "      <td>1</td>\n",
       "      <td>14</td>\n",
       "      <td>47</td>\n",
       "      <td>6</td>\n",
       "      <td>Sometimes</td>\n",
       "      <td>['Metal']</td>\n",
       "      <td>['Oven', 'Microwave']</td>\n",
       "      <td>2595</td>\n",
       "    </tr>\n",
       "    <tr>\n",
       "      <th>3</th>\n",
       "      <td>overweight</td>\n",
       "      <td>male</td>\n",
       "      <td>omnivore</td>\n",
       "      <td>twice a day</td>\n",
       "      <td>wood</td>\n",
       "      <td>walk/bicycle</td>\n",
       "      <td>NaN</td>\n",
       "      <td>sometimes</td>\n",
       "      <td>157</td>\n",
       "      <td>rarely</td>\n",
       "      <td>74</td>\n",
       "      <td>medium</td>\n",
       "      <td>3</td>\n",
       "      <td>20</td>\n",
       "      <td>5</td>\n",
       "      <td>7</td>\n",
       "      <td>Sometimes</td>\n",
       "      <td>['Paper', 'Plastic', 'Glass', 'Metal']</td>\n",
       "      <td>['Microwave', 'Grill', 'Airfryer']</td>\n",
       "      <td>1074</td>\n",
       "    </tr>\n",
       "    <tr>\n",
       "      <th>4</th>\n",
       "      <td>obese</td>\n",
       "      <td>female</td>\n",
       "      <td>vegetarian</td>\n",
       "      <td>daily</td>\n",
       "      <td>coal</td>\n",
       "      <td>private</td>\n",
       "      <td>diesel</td>\n",
       "      <td>often</td>\n",
       "      <td>266</td>\n",
       "      <td>very frequently</td>\n",
       "      <td>8457</td>\n",
       "      <td>large</td>\n",
       "      <td>1</td>\n",
       "      <td>3</td>\n",
       "      <td>5</td>\n",
       "      <td>6</td>\n",
       "      <td>Yes</td>\n",
       "      <td>['Paper']</td>\n",
       "      <td>['Oven']</td>\n",
       "      <td>4743</td>\n",
       "    </tr>\n",
       "  </tbody>\n",
       "</table>\n",
       "</div>"
      ],
      "text/plain": [
       "    Body Type     Sex         Diet How Often Shower Heating Energy Source  \\\n",
       "0  overweight  female  pescatarian            daily                  coal   \n",
       "1       obese  female   vegetarian  less frequently           natural gas   \n",
       "2  overweight    male     omnivore  more frequently                  wood   \n",
       "3  overweight    male     omnivore      twice a day                  wood   \n",
       "4       obese  female   vegetarian            daily                  coal   \n",
       "\n",
       "      Transport Vehicle Type Social Activity  Monthly Grocery Bill  \\\n",
       "0        public          NaN           often                   230   \n",
       "1  walk/bicycle          NaN           often                   114   \n",
       "2       private       petrol           never                   138   \n",
       "3  walk/bicycle          NaN       sometimes                   157   \n",
       "4       private       diesel           often                   266   \n",
       "\n",
       "  Frequency of Traveling by Air  Vehicle Monthly Distance Km Waste Bag Size  \\\n",
       "0                    frequently                          210          large   \n",
       "1                        rarely                            9    extra large   \n",
       "2                         never                         2472          small   \n",
       "3                        rarely                           74         medium   \n",
       "4               very frequently                         8457          large   \n",
       "\n",
       "   Waste Bag Weekly Count  How Long TV PC Daily Hour  \\\n",
       "0                       4                          7   \n",
       "1                       3                          9   \n",
       "2                       1                         14   \n",
       "3                       3                         20   \n",
       "4                       1                          3   \n",
       "\n",
       "   How Many New Clothes Monthly  How Long Internet Daily Hour  \\\n",
       "0                            26                             1   \n",
       "1                            38                             5   \n",
       "2                            47                             6   \n",
       "3                             5                             7   \n",
       "4                             5                             6   \n",
       "\n",
       "  Energy efficiency                               Recycling  \\\n",
       "0                No                               ['Metal']   \n",
       "1                No                               ['Metal']   \n",
       "2         Sometimes                               ['Metal']   \n",
       "3         Sometimes  ['Paper', 'Plastic', 'Glass', 'Metal']   \n",
       "4               Yes                               ['Paper']   \n",
       "\n",
       "                         Cooking_With  CarbonEmission  \n",
       "0                   ['Stove', 'Oven']            2238  \n",
       "1              ['Stove', 'Microwave']            1892  \n",
       "2               ['Oven', 'Microwave']            2595  \n",
       "3  ['Microwave', 'Grill', 'Airfryer']            1074  \n",
       "4                            ['Oven']            4743  "
      ]
     },
     "execution_count": 47,
     "metadata": {},
     "output_type": "execute_result"
    }
   ],
   "source": [
    "df = pd.read_csv(r'C:/Users/Usuario/Desktop/ETL/Dataset/Carbon Emission.csv', sep=',')\n",
    "df.head()"
   ]
  },
  {
   "cell_type": "markdown",
   "id": "473085dd",
   "metadata": {},
   "source": [
    "# Description"
   ]
  },
  {
   "cell_type": "code",
   "execution_count": 48,
   "id": "b82a56dc",
   "metadata": {},
   "outputs": [
    {
     "data": {
      "text/html": [
       "<div>\n",
       "<style scoped>\n",
       "    .dataframe tbody tr th:only-of-type {\n",
       "        vertical-align: middle;\n",
       "    }\n",
       "\n",
       "    .dataframe tbody tr th {\n",
       "        vertical-align: top;\n",
       "    }\n",
       "\n",
       "    .dataframe thead th {\n",
       "        text-align: right;\n",
       "    }\n",
       "</style>\n",
       "<table border=\"1\" class=\"dataframe\">\n",
       "  <thead>\n",
       "    <tr style=\"text-align: right;\">\n",
       "      <th></th>\n",
       "      <th>Monthly Grocery Bill</th>\n",
       "      <th>Vehicle Monthly Distance Km</th>\n",
       "      <th>Waste Bag Weekly Count</th>\n",
       "      <th>How Long TV PC Daily Hour</th>\n",
       "      <th>How Many New Clothes Monthly</th>\n",
       "      <th>How Long Internet Daily Hour</th>\n",
       "      <th>CarbonEmission</th>\n",
       "    </tr>\n",
       "  </thead>\n",
       "  <tbody>\n",
       "    <tr>\n",
       "      <th>count</th>\n",
       "      <td>10000.000000</td>\n",
       "      <td>10000.000000</td>\n",
       "      <td>10000.000000</td>\n",
       "      <td>10000.000000</td>\n",
       "      <td>10000.000000</td>\n",
       "      <td>10000.000000</td>\n",
       "      <td>10000.000000</td>\n",
       "    </tr>\n",
       "    <tr>\n",
       "      <th>mean</th>\n",
       "      <td>173.875200</td>\n",
       "      <td>2031.485900</td>\n",
       "      <td>4.024600</td>\n",
       "      <td>12.139200</td>\n",
       "      <td>25.109000</td>\n",
       "      <td>11.889100</td>\n",
       "      <td>2269.147300</td>\n",
       "    </tr>\n",
       "    <tr>\n",
       "      <th>std</th>\n",
       "      <td>72.234018</td>\n",
       "      <td>2769.715597</td>\n",
       "      <td>1.990375</td>\n",
       "      <td>7.106369</td>\n",
       "      <td>14.698725</td>\n",
       "      <td>7.277218</td>\n",
       "      <td>1017.675247</td>\n",
       "    </tr>\n",
       "    <tr>\n",
       "      <th>min</th>\n",
       "      <td>50.000000</td>\n",
       "      <td>0.000000</td>\n",
       "      <td>1.000000</td>\n",
       "      <td>0.000000</td>\n",
       "      <td>0.000000</td>\n",
       "      <td>0.000000</td>\n",
       "      <td>306.000000</td>\n",
       "    </tr>\n",
       "    <tr>\n",
       "      <th>25%</th>\n",
       "      <td>111.000000</td>\n",
       "      <td>69.000000</td>\n",
       "      <td>2.000000</td>\n",
       "      <td>6.000000</td>\n",
       "      <td>13.000000</td>\n",
       "      <td>6.000000</td>\n",
       "      <td>1538.000000</td>\n",
       "    </tr>\n",
       "    <tr>\n",
       "      <th>50%</th>\n",
       "      <td>173.000000</td>\n",
       "      <td>823.000000</td>\n",
       "      <td>4.000000</td>\n",
       "      <td>12.000000</td>\n",
       "      <td>25.000000</td>\n",
       "      <td>12.000000</td>\n",
       "      <td>2080.000000</td>\n",
       "    </tr>\n",
       "    <tr>\n",
       "      <th>75%</th>\n",
       "      <td>237.000000</td>\n",
       "      <td>2516.750000</td>\n",
       "      <td>6.000000</td>\n",
       "      <td>18.000000</td>\n",
       "      <td>38.000000</td>\n",
       "      <td>18.000000</td>\n",
       "      <td>2768.000000</td>\n",
       "    </tr>\n",
       "    <tr>\n",
       "      <th>max</th>\n",
       "      <td>299.000000</td>\n",
       "      <td>9999.000000</td>\n",
       "      <td>7.000000</td>\n",
       "      <td>24.000000</td>\n",
       "      <td>50.000000</td>\n",
       "      <td>24.000000</td>\n",
       "      <td>8377.000000</td>\n",
       "    </tr>\n",
       "  </tbody>\n",
       "</table>\n",
       "</div>"
      ],
      "text/plain": [
       "       Monthly Grocery Bill  Vehicle Monthly Distance Km  \\\n",
       "count          10000.000000                 10000.000000   \n",
       "mean             173.875200                  2031.485900   \n",
       "std               72.234018                  2769.715597   \n",
       "min               50.000000                     0.000000   \n",
       "25%              111.000000                    69.000000   \n",
       "50%              173.000000                   823.000000   \n",
       "75%              237.000000                  2516.750000   \n",
       "max              299.000000                  9999.000000   \n",
       "\n",
       "       Waste Bag Weekly Count  How Long TV PC Daily Hour  \\\n",
       "count            10000.000000               10000.000000   \n",
       "mean                 4.024600                  12.139200   \n",
       "std                  1.990375                   7.106369   \n",
       "min                  1.000000                   0.000000   \n",
       "25%                  2.000000                   6.000000   \n",
       "50%                  4.000000                  12.000000   \n",
       "75%                  6.000000                  18.000000   \n",
       "max                  7.000000                  24.000000   \n",
       "\n",
       "       How Many New Clothes Monthly  How Long Internet Daily Hour  \\\n",
       "count                  10000.000000                  10000.000000   \n",
       "mean                      25.109000                     11.889100   \n",
       "std                       14.698725                      7.277218   \n",
       "min                        0.000000                      0.000000   \n",
       "25%                       13.000000                      6.000000   \n",
       "50%                       25.000000                     12.000000   \n",
       "75%                       38.000000                     18.000000   \n",
       "max                       50.000000                     24.000000   \n",
       "\n",
       "       CarbonEmission  \n",
       "count    10000.000000  \n",
       "mean      2269.147300  \n",
       "std       1017.675247  \n",
       "min        306.000000  \n",
       "25%       1538.000000  \n",
       "50%       2080.000000  \n",
       "75%       2768.000000  \n",
       "max       8377.000000  "
      ]
     },
     "execution_count": 48,
     "metadata": {},
     "output_type": "execute_result"
    }
   ],
   "source": [
    "df.describe()"
   ]
  },
  {
   "cell_type": "markdown",
   "id": "8b4edbb6",
   "metadata": {},
   "source": [
    "# Data type"
   ]
  },
  {
   "cell_type": "code",
   "execution_count": 49,
   "id": "3c7f09d4-3aae-40c3-b661-5f236178d66f",
   "metadata": {},
   "outputs": [
    {
     "data": {
      "text/plain": [
       "Body Type                        object\n",
       "Sex                              object\n",
       "Diet                             object\n",
       "How Often Shower                 object\n",
       "Heating Energy Source            object\n",
       "Transport                        object\n",
       "Vehicle Type                     object\n",
       "Social Activity                  object\n",
       "Monthly Grocery Bill              int64\n",
       "Frequency of Traveling by Air    object\n",
       "Vehicle Monthly Distance Km       int64\n",
       "Waste Bag Size                   object\n",
       "Waste Bag Weekly Count            int64\n",
       "How Long TV PC Daily Hour         int64\n",
       "How Many New Clothes Monthly      int64\n",
       "How Long Internet Daily Hour      int64\n",
       "Energy efficiency                object\n",
       "Recycling                        object\n",
       "Cooking_With                     object\n",
       "CarbonEmission                    int64\n",
       "dtype: object"
      ]
     },
     "execution_count": 49,
     "metadata": {},
     "output_type": "execute_result"
    }
   ],
   "source": [
    "df.dtypes"
   ]
  },
  {
   "cell_type": "markdown",
   "id": "cddb3bd7",
   "metadata": {},
   "source": [
    "# General information of the data"
   ]
  },
  {
   "cell_type": "code",
   "execution_count": 50,
   "id": "7ebb203f",
   "metadata": {},
   "outputs": [
    {
     "name": "stdout",
     "output_type": "stream",
     "text": [
      "<class 'pandas.core.frame.DataFrame'>\n",
      "RangeIndex: 10000 entries, 0 to 9999\n",
      "Data columns (total 20 columns):\n",
      " #   Column                         Non-Null Count  Dtype \n",
      "---  ------                         --------------  ----- \n",
      " 0   Body Type                      10000 non-null  object\n",
      " 1   Sex                            10000 non-null  object\n",
      " 2   Diet                           10000 non-null  object\n",
      " 3   How Often Shower               10000 non-null  object\n",
      " 4   Heating Energy Source          10000 non-null  object\n",
      " 5   Transport                      10000 non-null  object\n",
      " 6   Vehicle Type                   3279 non-null   object\n",
      " 7   Social Activity                10000 non-null  object\n",
      " 8   Monthly Grocery Bill           10000 non-null  int64 \n",
      " 9   Frequency of Traveling by Air  10000 non-null  object\n",
      " 10  Vehicle Monthly Distance Km    10000 non-null  int64 \n",
      " 11  Waste Bag Size                 10000 non-null  object\n",
      " 12  Waste Bag Weekly Count         10000 non-null  int64 \n",
      " 13  How Long TV PC Daily Hour      10000 non-null  int64 \n",
      " 14  How Many New Clothes Monthly   10000 non-null  int64 \n",
      " 15  How Long Internet Daily Hour   10000 non-null  int64 \n",
      " 16  Energy efficiency              10000 non-null  object\n",
      " 17  Recycling                      10000 non-null  object\n",
      " 18  Cooking_With                   10000 non-null  object\n",
      " 19  CarbonEmission                 10000 non-null  int64 \n",
      "dtypes: int64(7), object(13)\n",
      "memory usage: 1.5+ MB\n"
     ]
    }
   ],
   "source": [
    "df.info()"
   ]
  },
  {
   "cell_type": "markdown",
   "id": "0d6f42a9",
   "metadata": {},
   "source": [
    "# Convert data"
   ]
  },
  {
   "cell_type": "code",
   "execution_count": 51,
   "id": "e435f43b",
   "metadata": {},
   "outputs": [
    {
     "name": "stdout",
     "output_type": "stream",
     "text": [
      "<class 'pandas.core.frame.DataFrame'>\n",
      "RangeIndex: 10000 entries, 0 to 9999\n",
      "Data columns (total 20 columns):\n",
      " #   Column                         Non-Null Count  Dtype \n",
      "---  ------                         --------------  ----- \n",
      " 0   Body Type                      10000 non-null  string\n",
      " 1   Sex                            10000 non-null  string\n",
      " 2   Diet                           10000 non-null  string\n",
      " 3   How Often Shower               10000 non-null  string\n",
      " 4   Heating Energy Source          10000 non-null  string\n",
      " 5   Transport                      10000 non-null  string\n",
      " 6   Vehicle Type                   3279 non-null   string\n",
      " 7   Social Activity                10000 non-null  string\n",
      " 8   Monthly Grocery Bill           10000 non-null  Int64 \n",
      " 9   Frequency of Traveling by Air  10000 non-null  string\n",
      " 10  Vehicle Monthly Distance Km    10000 non-null  Int64 \n",
      " 11  Waste Bag Size                 10000 non-null  string\n",
      " 12  Waste Bag Weekly Count         10000 non-null  Int64 \n",
      " 13  How Long TV PC Daily Hour      10000 non-null  Int64 \n",
      " 14  How Many New Clothes Monthly   10000 non-null  Int64 \n",
      " 15  How Long Internet Daily Hour   10000 non-null  Int64 \n",
      " 16  Energy efficiency              10000 non-null  string\n",
      " 17  Recycling                      10000 non-null  string\n",
      " 18  Cooking_With                   10000 non-null  string\n",
      " 19  CarbonEmission                 10000 non-null  Int64 \n",
      "dtypes: Int64(7), string(13)\n",
      "memory usage: 1.6 MB\n"
     ]
    }
   ],
   "source": [
    "df1 = df.convert_dtypes() \n",
    "df1.info() "
   ]
  },
  {
   "cell_type": "markdown",
   "id": "ac04ca03",
   "metadata": {},
   "source": [
    "# Number of rows and columns"
   ]
  },
  {
   "cell_type": "code",
   "execution_count": 52,
   "id": "acd12428-9b1e-49e6-a558-a7759dfac181",
   "metadata": {},
   "outputs": [
    {
     "name": "stdout",
     "output_type": "stream",
     "text": [
      "(10000, 20)\n",
      "<class 'tuple'>\n"
     ]
    }
   ],
   "source": [
    "print(df.shape)\n",
    "print(type(df.shape)) #Returns a tuple of the form: (\"number of rows\", \"number of columns\")"
   ]
  },
  {
   "cell_type": "code",
   "execution_count": 53,
   "id": "2e066a34",
   "metadata": {},
   "outputs": [
    {
     "name": "stdout",
     "output_type": "stream",
     "text": [
      "Número de filas: 10000\n",
      "Número de columnas: 20\n",
      "Tipo: <class 'tuple'>\n"
     ]
    }
   ],
   "source": [
    "# Get DataFrame size (number of rows and number of columns)\n",
    "num_rows, num_cols = df.shape\n",
    "\n",
    "print(f\"Número de filas: {num_rows}\")\n",
    "print(f\"Número de columnas: {num_cols}\")\n",
    "\n",
    "#Verify the data type of df.shape\n",
    "print(f\"Tipo: {type(df.shape)}\")  # Will print <class 'tuple'>\n"
   ]
  },
  {
   "cell_type": "markdown",
   "id": "4d1b0b93",
   "metadata": {},
   "source": [
    "# Unique values"
   ]
  },
  {
   "cell_type": "code",
   "execution_count": 54,
   "id": "70f9ff53",
   "metadata": {},
   "outputs": [
    {
     "data": {
      "text/plain": [
       "<StringArray>\n",
       "['overweight', 'obese', 'underweight', 'normal']\n",
       "Length: 4, dtype: string"
      ]
     },
     "execution_count": 54,
     "metadata": {},
     "output_type": "execute_result"
    }
   ],
   "source": [
    "df1['Body Type'].unique()"
   ]
  },
  {
   "cell_type": "code",
   "execution_count": 55,
   "id": "b5756995",
   "metadata": {},
   "outputs": [
    {
     "data": {
      "text/plain": [
       "<StringArray>\n",
       "['pescatarian', 'vegetarian', 'omnivore', 'vegan']\n",
       "Length: 4, dtype: string"
      ]
     },
     "execution_count": 55,
     "metadata": {},
     "output_type": "execute_result"
    }
   ],
   "source": [
    "df1['Diet'].unique() \n"
   ]
  },
  {
   "cell_type": "markdown",
   "id": "df38df7e",
   "metadata": {},
   "source": [
    "# Null values"
   ]
  },
  {
   "cell_type": "code",
   "execution_count": 56,
   "id": "ee9c2b3d",
   "metadata": {},
   "outputs": [
    {
     "data": {
      "text/plain": [
       "6721"
      ]
     },
     "execution_count": 56,
     "metadata": {},
     "output_type": "execute_result"
    }
   ],
   "source": [
    "total_valores_nulos = df.isnull().sum().sum()\n",
    "total_valores_nulos"
   ]
  },
  {
   "cell_type": "markdown",
   "id": "7af85d97",
   "metadata": {},
   "source": [
    "# Duplicate values"
   ]
  },
  {
   "cell_type": "code",
   "execution_count": 57,
   "id": "b6108b3f",
   "metadata": {},
   "outputs": [
    {
     "data": {
      "text/plain": [
       "0"
      ]
     },
     "execution_count": 57,
     "metadata": {},
     "output_type": "execute_result"
    }
   ],
   "source": [
    "total_duplicados = df.duplicated().sum()\n",
    "total_duplicados"
   ]
  },
  {
   "cell_type": "markdown",
   "id": "13b9dc50",
   "metadata": {},
   "source": [
    "# Graphics"
   ]
  },
  {
   "cell_type": "markdown",
   "id": "8e988bc9",
   "metadata": {},
   "source": [
    "### Distribution graph of the first categorical variable (Body Type)"
   ]
  },
  {
   "cell_type": "code",
   "execution_count": 58,
   "id": "1bef2894",
   "metadata": {},
   "outputs": [
    {
     "name": "stderr",
     "output_type": "stream",
     "text": [
      "C:\\Users\\Usuario\\AppData\\Local\\Temp\\ipykernel_6632\\565910194.py:1: FutureWarning: \n",
      "\n",
      "Passing `palette` without assigning `hue` is deprecated and will be removed in v0.14.0. Assign the `x` variable to `hue` and set `legend=False` for the same effect.\n",
      "\n",
      "  sns.countplot(data=df, x=\"Body Type\", palette='Set2')\n"
     ]
    },
    {
     "data": {
      "image/png": "[encoded data removed]",
      "text/plain": [
       "<Figure size 640x480 with 1 Axes>"
      ]
     },
     "metadata": {},
     "output_type": "display_data"
    }
   ],
   "source": [
    "sns.countplot(data=df, x=\"Body Type\", palette='Set2')  \n",
    "plt.title('Body Type Distribution')\n",
    "plt.xticks(rotation=45)\n",
    "plt.show()"
   ]
  },
  {
   "cell_type": "markdown",
   "id": "81c8fc57",
   "metadata": {},
   "source": [
    "#### Get the exact values for body type"
   ]
  },
  {
   "cell_type": "code",
   "execution_count": 59,
   "metadata": {},
   "outputs": [
    {
     "name": "stdout",
     "output_type": "stream",
     "text": [
      "Valores exactos 'Body Type':\n",
      "Body Type\n",
      "underweight    2540\n",
      "obese          2500\n",
      "overweight     2487\n",
      "normal         2473\n",
      "Name: count, dtype: int64\n"
     ]
    }
   ],
   "source": [
    "valores_body_type = df['Body Type'].value_counts()\n",
    "\n",
    "# Print the exact values\n",
    "print(\"Valores exactos 'Body Type':\")\n",
    "print(valores_body_type)"
   ]
  },
  {
   "cell_type": "markdown",
   "id": "688b7737",
   "metadata": {},
   "source": [
    "### Distribution graph of the second categorical variable (Sex)"
   ]
  },
  {
   "cell_type": "code",
   "execution_count": 60,
   "id": "c598ef38",
   "metadata": {},
   "outputs": [
    {
     "name": "stderr",
     "output_type": "stream",
     "text": [
      "C:\\Users\\Usuario\\AppData\\Local\\Temp\\ipykernel_6632\\1761122299.py:1: FutureWarning: \n",
      "\n",
      "Passing `palette` without assigning `hue` is deprecated and will be removed in v0.14.0. Assign the `x` variable to `hue` and set `legend=False` for the same effect.\n",
      "\n",
      "  sns.countplot(data=df, x=\"Sex\", palette='Set1')\n"
     ]
    },
    {
     "data": {
      "image/png": "[encoded data removed]",
      "text/plain": [
       "<Figure size 640x480 with 1 Axes>"
      ]
     },
     "metadata": {},
     "output_type": "display_data"
    }
   ],
   "source": [
    "sns.countplot(data=df, x=\"Sex\", palette='Set1')\n",
    "plt.title('Sex Distribution')\n",
    "plt.xticks(rotation=45)\n",
    "plt.show()"
   ]
  },
  {
   "cell_type": "markdown",
   "id": "3bd86326",
   "metadata": {},
   "source": [
    "#### Obtain the exact values for Sex"
   ]
  },
  {
   "cell_type": "code",
   "execution_count": 61,
   "id": "524e5794",
   "metadata": {},
   "outputs": [
    {
     "name": "stdout",
     "output_type": "stream",
     "text": [
      "Valores exactos 'Sex':\n",
      "Sex\n",
      "female    5007\n",
      "male      4993\n",
      "Name: count, dtype: int64\n"
     ]
    }
   ],
   "source": [
    "valores_sex = df['Sex'].value_counts()\n",
    "\n",
    "# Print the exact values\n",
    "print(\"Valores exactos 'Sex':\")\n",
    "print(valores_sex)\n"
   ]
  },
  {
   "cell_type": "markdown",
   "id": "c7049925",
   "metadata": {},
   "source": [
    "### Pie chart for diet values"
   ]
  },
  {
   "cell_type": "code",
   "execution_count": 62,
   "id": "0a91214b",
   "metadata": {},
   "outputs": [
    {
     "data": {
      "image/png": "[encoded data removed]",
      "text/plain": [
       "<Figure size 800x800 with 1 Axes>"
      ]
     },
     "metadata": {},
     "output_type": "display_data"
    }
   ],
   "source": [
    "valores_diet = df['Diet'].value_counts()\n",
    "\n",
    "# Create a pie chart\n",
    "plt.figure(figsize=(8, 8))\n",
    "plt.pie(valores_diet, labels=valores_diet.index, autopct='%1.1f%%', startangle=140)\n",
    "plt.title('Diet Distribution')\n",
    "plt.axis('equal') \n",
    "plt.show()\n"
   ]
  },
  {
   "cell_type": "code",
   "execution_count": 63,
   "id": "b40339c6",
   "metadata": {},
   "outputs": [
    {
     "name": "stdout",
     "output_type": "stream",
     "text": [
      "                             CarbonEmission  Vehicle Monthly Distance Km\n",
      "CarbonEmission                     1.000000                     0.594171\n",
      "Vehicle Monthly Distance Km        0.594171                     1.000000\n"
     ]
    }
   ],
   "source": [
    "df['CarbonEmission'] = df['CarbonEmission'].astype(float)\n",
    "df['Vehicle Monthly Distance Km'] = df['Vehicle Monthly Distance Km'].astype(float)\n",
    "\n",
    "columns_of_interest = ['CarbonEmission', 'Vehicle Monthly Distance Km']\n",
    "\n",
    "\n",
    "correlation_matrix = df[columns_of_interest].corr()\n",
    "print(correlation_matrix)"
   ]
  },
  {
   "cell_type": "markdown",
   "id": "e8ede512",
   "metadata": {},
   "source": [
    "### Correlation Matrix between Carbon Emissions and Monthly Distance Traveled per Vehicle"
   ]
  },
  {
   "cell_type": "code",
   "execution_count": 64,
   "id": "f028e035",
   "metadata": {},
   "outputs": [
    {
     "data": {
      "image/png": "[encoded data removed]",
      "text/plain": [
       "<Figure size 800x600 with 2 Axes>"
      ]
     },
     "metadata": {},
     "output_type": "display_data"
    }
   ],
   "source": [
    "df['CarbonEmission'] = df['CarbonEmission'].astype(float)\n",
    "df['Vehicle Monthly Distance Km'] = df['Vehicle Monthly Distance Km'].astype(float)\n",
    "\n",
    "columns_of_interest = ['CarbonEmission', 'Vehicle Monthly Distance Km']\n",
    "\n",
    "correlation_matrix = df[columns_of_interest].corr()\n",
    "\n",
    "plt.figure(figsize=(8, 6))\n",
    "sns.heatmap(correlation_matrix, annot=True, cmap='coolwarm', fmt=\".2f\", linewidths=.5)\n",
    "plt.title('Correlation Matrix')\n",
    "plt.show()"
   ]
  }
 ],
 "metadata": {
  "kernelspec": {
   "display_name": "Python 3 (ipykernel)",
   "language": "python",
   "name": "python3"
  },
  "language_info": {
   "codemirror_mode": {
    "name": "ipython",
    "version": 3
   },
   "file_extension": ".py",
   "mimetype": "text/x-python",
   "name": "python",
   "nbconvert_exporter": "python",
   "pygments_lexer": "ipython3",
   "version": "3.12.2"
  }
 },
 "nbformat": 4,
 "nbformat_minor": 5
}
