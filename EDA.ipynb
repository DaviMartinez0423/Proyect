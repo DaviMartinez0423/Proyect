{
 "cells": [
  {
   "cell_type": "markdown",
   "id": "d7756b12",
   "metadata": {},
   "source": [
    "# Import libraries"
   ]
  },
  {
   "cell_type": "code",
   "execution_count": 122,
   "id": "f46fa8b7-2c03-4549-be11-dd4fd23292e3",
   "metadata": {},
   "outputs": [],
   "source": [
    "import pandas as pd\n",
    "import matplotlib.pyplot as plt\n",
    "from sqlalchemy import create_engine\n",
    "import seaborn as sns\n",
    "import json"
   ]
  },
  {
   "cell_type": "markdown",
   "id": "f0f6981b",
   "metadata": {},
   "source": [
    "## Bring the dataset from the database"
   ]
  },
  {
   "cell_type": "code",
   "execution_count": 123,
   "id": "432d9c8b",
   "metadata": {},
   "outputs": [],
   "source": [
    "with open('passwords.json', 'r') as file:\n",
    "    config = json.load(file)\n",
    "\n",
    "user = config['Proyect']['user']\n",
    "password = config['Proyect']['password']\n",
    "host = config['Proyect']['host']\n",
    "port = config['Proyect']['port']\n",
    "database_name = config['Proyect']['db_name']\n",
    "database_table = config['Proyect']['db_table']"
   ]
  },
  {
   "cell_type": "code",
   "execution_count": 124,
   "id": "52b11e05-08e5-479f-a2e7-a873eb48516e",
   "metadata": {
    "scrolled": true
   },
   "outputs": [
    {
     "data": {
      "text/html": [
       "<div>\n",
       "<style scoped>\n",
       "    .dataframe tbody tr th:only-of-type {\n",
       "        vertical-align: middle;\n",
       "    }\n",
       "\n",
       "    .dataframe tbody tr th {\n",
       "        vertical-align: top;\n",
       "    }\n",
       "\n",
       "    .dataframe thead th {\n",
       "        text-align: right;\n",
       "    }\n",
       "</style>\n",
       "<table border=\"1\" class=\"dataframe\">\n",
       "  <thead>\n",
       "    <tr style=\"text-align: right;\">\n",
       "      <th></th>\n",
       "      <th>Title</th>\n",
       "      <th>Release Day</th>\n",
       "      <th>Release Month</th>\n",
       "      <th>Release Year</th>\n",
       "      <th>Developer</th>\n",
       "      <th>Publisher</th>\n",
       "      <th>Genres</th>\n",
       "      <th>Product Rating</th>\n",
       "      <th>User Score</th>\n",
       "      <th>User Ratings Count</th>\n",
       "      <th>Platforms Info</th>\n",
       "    </tr>\n",
       "  </thead>\n",
       "  <tbody>\n",
       "    <tr>\n",
       "      <th>0</th>\n",
       "      <td>Ziggurat (2012)</td>\n",
       "      <td>2.0</td>\n",
       "      <td>17.0</td>\n",
       "      <td>2012.0</td>\n",
       "      <td>Action Button Entertainment</td>\n",
       "      <td>Freshuu Inc.</td>\n",
       "      <td>Action</td>\n",
       "      <td>None</td>\n",
       "      <td>69.0</td>\n",
       "      <td>14.0</td>\n",
       "      <td>[{'Platform': 'iOS (iPhone/iPad)', 'Platform M...</td>\n",
       "    </tr>\n",
       "    <tr>\n",
       "      <th>1</th>\n",
       "      <td>4X4 EVO 2</td>\n",
       "      <td>11.0</td>\n",
       "      <td>15.0</td>\n",
       "      <td>2001.0</td>\n",
       "      <td>Terminal Reality</td>\n",
       "      <td>Gathering</td>\n",
       "      <td>Auto Racing Sim</td>\n",
       "      <td>Rated E For Everyone</td>\n",
       "      <td>NaN</td>\n",
       "      <td>NaN</td>\n",
       "      <td>[{'Platform': 'Xbox', 'Platform Metascore': '5...</td>\n",
       "    </tr>\n",
       "    <tr>\n",
       "      <th>2</th>\n",
       "      <td>MotoGP 2 (2001)</td>\n",
       "      <td>1.0</td>\n",
       "      <td>22.0</td>\n",
       "      <td>2002.0</td>\n",
       "      <td>Namco</td>\n",
       "      <td>Namco</td>\n",
       "      <td>Auto Racing Sim</td>\n",
       "      <td>Rated E For Everyone</td>\n",
       "      <td>58.0</td>\n",
       "      <td>NaN</td>\n",
       "      <td>[{'Platform': 'PlayStation 2', 'Platform Metas...</td>\n",
       "    </tr>\n",
       "    <tr>\n",
       "      <th>3</th>\n",
       "      <td>Gothic 3</td>\n",
       "      <td>11.0</td>\n",
       "      <td>14.0</td>\n",
       "      <td>2006.0</td>\n",
       "      <td>Piranha Bytes</td>\n",
       "      <td>Aspyr</td>\n",
       "      <td>Western RPG</td>\n",
       "      <td>Rated T For Teen</td>\n",
       "      <td>75.0</td>\n",
       "      <td>832.0</td>\n",
       "      <td>[{'Platform': 'PC', 'Platform Metascore': '63'...</td>\n",
       "    </tr>\n",
       "    <tr>\n",
       "      <th>4</th>\n",
       "      <td>Siege Survival: Gloria Victis</td>\n",
       "      <td>5.0</td>\n",
       "      <td>18.0</td>\n",
       "      <td>2021.0</td>\n",
       "      <td>FishTankStudio</td>\n",
       "      <td>Black Eye Games</td>\n",
       "      <td>RPG</td>\n",
       "      <td>None</td>\n",
       "      <td>65.0</td>\n",
       "      <td>10.0</td>\n",
       "      <td>[{'Platform': 'PC', 'Platform Metascore': '69'...</td>\n",
       "    </tr>\n",
       "  </tbody>\n",
       "</table>\n",
       "</div>"
      ],
      "text/plain": [
       "                           Title  Release Day  Release Month  Release Year                    Developer        Publisher           Genres        Product Rating  User Score  User Ratings Count                                     Platforms Info\n",
       "0                Ziggurat (2012)          2.0           17.0        2012.0  Action Button Entertainment     Freshuu Inc.           Action                  None        69.0                14.0  [{'Platform': 'iOS (iPhone/iPad)', 'Platform M...\n",
       "1                      4X4 EVO 2         11.0           15.0        2001.0             Terminal Reality        Gathering  Auto Racing Sim  Rated E For Everyone         NaN                 NaN  [{'Platform': 'Xbox', 'Platform Metascore': '5...\n",
       "2                MotoGP 2 (2001)          1.0           22.0        2002.0                        Namco            Namco  Auto Racing Sim  Rated E For Everyone        58.0                 NaN  [{'Platform': 'PlayStation 2', 'Platform Metas...\n",
       "3                       Gothic 3         11.0           14.0        2006.0                Piranha Bytes            Aspyr      Western RPG      Rated T For Teen        75.0               832.0  [{'Platform': 'PC', 'Platform Metascore': '63'...\n",
       "4  Siege Survival: Gloria Victis          5.0           18.0        2021.0               FishTankStudio  Black Eye Games              RPG                  None        65.0                10.0  [{'Platform': 'PC', 'Platform Metascore': '69'..."
      ]
     },
     "execution_count": 124,
     "metadata": {},
     "output_type": "execute_result"
    }
   ],
   "source": [
    "pd.set_option('display.max_columns', None)\n",
    "pd.set_option('display.max_rows', None)\n",
    "pd.set_option('display.width', 1000)\n",
    "\n",
    "engine = create_engine(f'postgresql://{user}:{password}@{host}:{port}/{database_name}')\n",
    "\n",
    "sql = f'SELECT * FROM \"{database_table}\"'\n",
    "\n",
    "df = pd.read_sql_query(sql, engine)\n",
    "df.head()"
   ]
  },
  {
   "cell_type": "markdown",
   "id": "473085dd",
   "metadata": {},
   "source": [
    "# Description"
   ]
  },
  {
   "cell_type": "code",
   "execution_count": 125,
   "id": "b82a56dc",
   "metadata": {},
   "outputs": [
    {
     "data": {
      "text/html": [
       "<div>\n",
       "<style scoped>\n",
       "    .dataframe tbody tr th:only-of-type {\n",
       "        vertical-align: middle;\n",
       "    }\n",
       "\n",
       "    .dataframe tbody tr th {\n",
       "        vertical-align: top;\n",
       "    }\n",
       "\n",
       "    .dataframe thead th {\n",
       "        text-align: right;\n",
       "    }\n",
       "</style>\n",
       "<table border=\"1\" class=\"dataframe\">\n",
       "  <thead>\n",
       "    <tr style=\"text-align: right;\">\n",
       "      <th></th>\n",
       "      <th>Release Day</th>\n",
       "      <th>Release Month</th>\n",
       "      <th>Release Year</th>\n",
       "      <th>User Score</th>\n",
       "      <th>User Ratings Count</th>\n",
       "    </tr>\n",
       "  </thead>\n",
       "  <tbody>\n",
       "    <tr>\n",
       "      <th>count</th>\n",
       "      <td>41973.000000</td>\n",
       "      <td>41973.000000</td>\n",
       "      <td>41973.000000</td>\n",
       "      <td>35142.000000</td>\n",
       "      <td>33897.000000</td>\n",
       "    </tr>\n",
       "    <tr>\n",
       "      <th>mean</th>\n",
       "      <td>6.899078</td>\n",
       "      <td>16.493389</td>\n",
       "      <td>2011.727539</td>\n",
       "      <td>61.784019</td>\n",
       "      <td>245.642977</td>\n",
       "    </tr>\n",
       "    <tr>\n",
       "      <th>std</th>\n",
       "      <td>3.369437</td>\n",
       "      <td>8.658360</td>\n",
       "      <td>6.531504</td>\n",
       "      <td>23.939784</td>\n",
       "      <td>1847.840836</td>\n",
       "    </tr>\n",
       "    <tr>\n",
       "      <th>min</th>\n",
       "      <td>1.000000</td>\n",
       "      <td>1.000000</td>\n",
       "      <td>1995.000000</td>\n",
       "      <td>1.000000</td>\n",
       "      <td>5.000000</td>\n",
       "    </tr>\n",
       "    <tr>\n",
       "      <th>25%</th>\n",
       "      <td>4.000000</td>\n",
       "      <td>9.000000</td>\n",
       "      <td>2007.000000</td>\n",
       "      <td>56.000000</td>\n",
       "      <td>14.000000</td>\n",
       "    </tr>\n",
       "    <tr>\n",
       "      <th>50%</th>\n",
       "      <td>7.000000</td>\n",
       "      <td>17.000000</td>\n",
       "      <td>2012.000000</td>\n",
       "      <td>69.000000</td>\n",
       "      <td>34.000000</td>\n",
       "    </tr>\n",
       "    <tr>\n",
       "      <th>75%</th>\n",
       "      <td>10.000000</td>\n",
       "      <td>24.000000</td>\n",
       "      <td>2017.000000</td>\n",
       "      <td>78.000000</td>\n",
       "      <td>111.000000</td>\n",
       "    </tr>\n",
       "    <tr>\n",
       "      <th>max</th>\n",
       "      <td>12.000000</td>\n",
       "      <td>31.000000</td>\n",
       "      <td>2024.000000</td>\n",
       "      <td>98.000000</td>\n",
       "      <td>163419.000000</td>\n",
       "    </tr>\n",
       "  </tbody>\n",
       "</table>\n",
       "</div>"
      ],
      "text/plain": [
       "        Release Day  Release Month  Release Year    User Score  User Ratings Count\n",
       "count  41973.000000   41973.000000  41973.000000  35142.000000        33897.000000\n",
       "mean       6.899078      16.493389   2011.727539     61.784019          245.642977\n",
       "std        3.369437       8.658360      6.531504     23.939784         1847.840836\n",
       "min        1.000000       1.000000   1995.000000      1.000000            5.000000\n",
       "25%        4.000000       9.000000   2007.000000     56.000000           14.000000\n",
       "50%        7.000000      17.000000   2012.000000     69.000000           34.000000\n",
       "75%       10.000000      24.000000   2017.000000     78.000000          111.000000\n",
       "max       12.000000      31.000000   2024.000000     98.000000       163419.000000"
      ]
     },
     "execution_count": 125,
     "metadata": {},
     "output_type": "execute_result"
    }
   ],
   "source": [
    "df.describe()"
   ]
  },
  {
   "cell_type": "markdown",
   "id": "8b4edbb6",
   "metadata": {},
   "source": [
    "# Data type"
   ]
  },
  {
   "cell_type": "code",
   "execution_count": 126,
   "id": "3c7f09d4-3aae-40c3-b661-5f236178d66f",
   "metadata": {},
   "outputs": [
    {
     "data": {
      "text/plain": [
       "Title                  object\n",
       "Release Day           float64\n",
       "Release Month         float64\n",
       "Release Year          float64\n",
       "Developer              object\n",
       "Publisher              object\n",
       "Genres                 object\n",
       "Product Rating         object\n",
       "User Score            float64\n",
       "User Ratings Count    float64\n",
       "Platforms Info         object\n",
       "dtype: object"
      ]
     },
     "execution_count": 126,
     "metadata": {},
     "output_type": "execute_result"
    }
   ],
   "source": [
    "df.dtypes"
   ]
  },
  {
   "cell_type": "markdown",
   "id": "cddb3bd7",
   "metadata": {},
   "source": [
    "# General information of the data"
   ]
  },
  {
   "cell_type": "code",
   "execution_count": 127,
   "id": "7ebb203f",
   "metadata": {},
   "outputs": [
    {
     "name": "stdout",
     "output_type": "stream",
     "text": [
      "<class 'pandas.core.frame.DataFrame'>\n",
      "RangeIndex: 42165 entries, 0 to 42164\n",
      "Data columns (total 11 columns):\n",
      " #   Column              Non-Null Count  Dtype  \n",
      "---  ------              --------------  -----  \n",
      " 0   Title               42102 non-null  object \n",
      " 1   Release Day         41973 non-null  float64\n",
      " 2   Release Month       41973 non-null  float64\n",
      " 3   Release Year        41973 non-null  float64\n",
      " 4   Developer           41751 non-null  object \n",
      " 5   Publisher           41751 non-null  object \n",
      " 6   Genres              42102 non-null  object \n",
      " 7   Product Rating      33015 non-null  object \n",
      " 8   User Score          35142 non-null  float64\n",
      " 9   User Ratings Count  33897 non-null  float64\n",
      " 10  Platforms Info      42165 non-null  object \n",
      "dtypes: float64(5), object(6)\n",
      "memory usage: 3.5+ MB\n"
     ]
    }
   ],
   "source": [
    "df.info()"
   ]
  },
  {
   "cell_type": "markdown",
   "id": "0d6f42a9",
   "metadata": {},
   "source": [
    "# Convert data"
   ]
  },
  {
   "cell_type": "code",
   "execution_count": 128,
   "id": "e435f43b",
   "metadata": {},
   "outputs": [
    {
     "name": "stdout",
     "output_type": "stream",
     "text": [
      "<class 'pandas.core.frame.DataFrame'>\n",
      "RangeIndex: 42165 entries, 0 to 42164\n",
      "Data columns (total 11 columns):\n",
      " #   Column              Non-Null Count  Dtype \n",
      "---  ------              --------------  ----- \n",
      " 0   Title               42102 non-null  string\n",
      " 1   Release Day         41973 non-null  Int64 \n",
      " 2   Release Month       41973 non-null  Int64 \n",
      " 3   Release Year        41973 non-null  Int64 \n",
      " 4   Developer           41751 non-null  string\n",
      " 5   Publisher           41751 non-null  string\n",
      " 6   Genres              42102 non-null  string\n",
      " 7   Product Rating      33015 non-null  string\n",
      " 8   User Score          35142 non-null  Int64 \n",
      " 9   User Ratings Count  33897 non-null  Int64 \n",
      " 10  Platforms Info      42165 non-null  string\n",
      "dtypes: Int64(5), string(6)\n",
      "memory usage: 3.7 MB\n"
     ]
    }
   ],
   "source": [
    "df1 = df.convert_dtypes() \n",
    "df1.info() "
   ]
  },
  {
   "cell_type": "markdown",
   "id": "ac04ca03",
   "metadata": {},
   "source": [
    "# Number of rows and columns"
   ]
  },
  {
   "cell_type": "code",
   "execution_count": 129,
   "id": "acd12428-9b1e-49e6-a558-a7759dfac181",
   "metadata": {},
   "outputs": [
    {
     "name": "stdout",
     "output_type": "stream",
     "text": [
      "(42165, 11)\n",
      "<class 'tuple'>\n"
     ]
    }
   ],
   "source": [
    "print(df.shape)\n",
    "print(type(df.shape)) #Returns a tuple of the form: (\"number of rows\", \"number of columns\")"
   ]
  },
  {
   "cell_type": "code",
   "execution_count": 130,
   "id": "2e066a34",
   "metadata": {},
   "outputs": [
    {
     "name": "stdout",
     "output_type": "stream",
     "text": [
      "Number of rows: 42165\n",
      "Number of columns: 11\n",
      "Type: <class 'tuple'>\n"
     ]
    }
   ],
   "source": [
    "\n",
    "num_rows, num_cols = df.shape\n",
    "\n",
    "print(f\"Number of rows: {num_rows}\")\n",
    "print(f\"Number of columns: {num_cols}\")\n",
    "\n",
    "print(f\"Type: {type(df.shape)}\")\n"
   ]
  },
  {
   "cell_type": "markdown",
   "id": "4d1b0b93",
   "metadata": {},
   "source": [
    "# Unique values"
   ]
  },
  {
   "cell_type": "code",
   "execution_count": 134,
   "id": "70f9ff53",
   "metadata": {},
   "outputs": [
    {
     "data": {
      "image/png": "[encoded data removed]",
      "text/plain": [
       "<Figure size 1000x600 with 1 Axes>"
      ]
     },
     "metadata": {},
     "output_type": "display_data"
    }
   ],
   "source": [
    "unique_amount = df.nunique()\n",
    "\n",
    "plt.figure(figsize=(10, 6))\n",
    "\n",
    "bars = plt.bar(unique_amount.index, unique_amount.values, color='skyblue')\n",
    "for bar in bars:\n",
    "    height = bar.get_height()\n",
    "    plt.text(bar.get_x() + bar.get_width()/2, height, str(int(height)), ha='center', va='bottom')\n",
    "\n",
    "plt.ylabel('Unique Values')\n",
    "plt.title('Unique values amount')\n",
    "plt.xticks(rotation=90)\n",
    "plt.tight_layout()\n",
    "plt.show()"
   ]
  },
  {
   "cell_type": "markdown",
   "id": "df38df7e",
   "metadata": {},
   "source": [
    "# Null values"
   ]
  },
  {
   "cell_type": "code",
   "execution_count": 137,
   "id": "ee9c2b3d",
   "metadata": {},
   "outputs": [
    {
     "data": {
      "image/png": "[encoded data removed]",
      "text/plain": [
       "<Figure size 1000x600 with 1 Axes>"
      ]
     },
     "metadata": {},
     "output_type": "display_data"
    }
   ],
   "source": [
    "null_report = df.isnull().sum()\n",
    "plt.figure(figsize=(10, 6))\n",
    "\n",
    "bars = plt.bar(null_report.index, null_report.values, color='skyblue')\n",
    "for bar in bars:\n",
    "    height = bar.get_height()\n",
    "    plt.text(bar.get_x() + bar.get_width()/2, height, str(int(height)), ha='center', va='bottom')\n",
    "\n",
    "plt.ylabel('Null values')\n",
    "plt.title('Null values amount')\n",
    "plt.xticks(rotation=90)\n",
    "plt.tight_layout()\n",
    "plt.show()"
   ]
  },
  {
   "cell_type": "markdown",
   "id": "7af85d97",
   "metadata": {},
   "source": [
    "# Duplicate values"
   ]
  },
  {
   "cell_type": "code",
   "execution_count": 133,
   "id": "b6108b3f",
   "metadata": {},
   "outputs": [
    {
     "name": "stdout",
     "output_type": "stream",
     "text": [
      "Duplicated Values:\n",
      "Column Title : 28130\n",
      "Column Release Day : 42152\n",
      "Column Release Month : 42133\n",
      "Column Release Year : 42134\n",
      "Column Developer : 37715\n",
      "Column Publisher : 39857\n",
      "Column Genres : 42045\n",
      "Column Product Rating : 42158\n",
      "Column User Score : 42074\n",
      "Column User Ratings Count : 40927\n",
      "Column Platforms Info : 30209\n"
     ]
    }
   ],
   "source": [
    "duplicated_values = {}\n",
    "\n",
    "for column in df.columns:\n",
    "    amount_duplicated = df[column].duplicated().sum()\n",
    "    duplicated_values[column] = amount_duplicated\n",
    "\n",
    "print(\"Duplicated Values:\")\n",
    "for column, amount in duplicated_values.items():\n",
    "    print(f\"Column {column} : {amount}\")"
   ]
  },
  {
   "cell_type": "markdown",
   "id": "13b9dc50",
   "metadata": {},
   "source": [
    "# Graphics"
   ]
  }
 ],
 "metadata": {
  "kernelspec": {
   "display_name": "Python 3 (ipykernel)",
   "language": "python",
   "name": "python3"
  },
  "language_info": {
   "codemirror_mode": {
    "name": "ipython",
    "version": 3
   },
   "file_extension": ".py",
   "mimetype": "text/x-python",
   "name": "python",
   "nbconvert_exporter": "python",
   "pygments_lexer": "ipython3",
   "version": "3.12.2"
  }
 },
 "nbformat": 4,
 "nbformat_minor": 5
}
