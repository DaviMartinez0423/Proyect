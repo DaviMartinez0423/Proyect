{
 "cells": [
  {
   "cell_type": "code",
   "execution_count": 21,
   "metadata": {},
   "outputs": [],
   "source": [
    "import json\n",
    "import pandas as pd\n",
    "from sqlalchemy import create_engine"
   ]
  },
  {
   "cell_type": "markdown",
   "metadata": {},
   "source": [
    "### Read the information about the database and import the data"
   ]
  },
  {
   "cell_type": "code",
   "execution_count": 24,
   "metadata": {},
   "outputs": [],
   "source": [
    "with open('passwords.json', 'r') as file:\n",
    "    config = json.load(file)\n",
    "\n",
    "user = config['Proyect']['user']\n",
    "password = config['Proyect']['password']\n",
    "host = config['Proyect']['host']\n",
    "port = config['Proyect']['port']\n",
    "database_name = config['Proyect']['db_name']\n",
    "database_table = config['Proyect']['db_table']"
   ]
  },
  {
   "cell_type": "code",
   "execution_count": 25,
   "metadata": {},
   "outputs": [
    {
     "data": {
      "text/plain": [
       "55"
      ]
     },
     "execution_count": 25,
     "metadata": {},
     "output_type": "execute_result"
    }
   ],
   "source": [
    "engine = create_engine(f\"postgresql+psycopg2://{user}:{password}@{host}:{port}/{database_name}\")\n",
    "\n",
    "df = pd.read_csv('Dataset.csv', delimiter=';')\n",
    "df.to_sql(name=database_table, con=engine, if_exists='append', index=False)"
   ]
  }
 ],
 "metadata": {
  "kernelspec": {
   "display_name": "Python 3",
   "language": "python",
   "name": "python3"
  },
  "language_info": {
   "codemirror_mode": {
    "name": "ipython",
    "version": 3
   },
   "file_extension": ".py",
   "mimetype": "text/x-python",
   "name": "python",
   "nbconvert_exporter": "python",
   "pygments_lexer": "ipython3",
   "version": "3.12.2"
  }
 },
 "nbformat": 4,
 "nbformat_minor": 2
}
